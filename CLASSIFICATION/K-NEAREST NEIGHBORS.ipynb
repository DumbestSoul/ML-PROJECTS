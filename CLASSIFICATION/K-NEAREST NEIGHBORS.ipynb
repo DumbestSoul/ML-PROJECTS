{
 "cells": [
  {
   "cell_type": "markdown",
   "id": "8e70cf98",
   "metadata": {},
   "source": [
    "# IMPORTING THE LIBRARIES\n"
   ]
  },
  {
   "cell_type": "code",
   "execution_count": 1,
   "id": "42ae2365",
   "metadata": {},
   "outputs": [],
   "source": [
    "import numpy as np\n",
    "import pandas as pd\n",
    "import matplotlib.pyplot as plt"
   ]
  },
  {
   "cell_type": "markdown",
   "id": "cd47a95d",
   "metadata": {},
   "source": [
    "# IMPORTING THE DATASET"
   ]
  },
  {
   "cell_type": "code",
   "execution_count": 2,
   "id": "b360cf31",
   "metadata": {},
   "outputs": [],
   "source": [
    "dataset = pd.read_csv('Social_Network_Ads.csv')\n",
    "x = dataset.iloc[:, :-1].values\n",
    "y = dataset.iloc[:, -1].values"
   ]
  },
  {
   "cell_type": "markdown",
   "id": "858c1ba5",
   "metadata": {},
   "source": [
    "#  FEATURE SCALING THE DATSET"
   ]
  },
  {
   "cell_type": "code",
   "execution_count": 3,
   "id": "a1a28ab8",
   "metadata": {},
   "outputs": [],
   "source": [
    "from sklearn.preprocessing import StandardScaler\n",
    "sc = StandardScaler()\n",
    "x = sc.fit_transform(x)"
   ]
  },
  {
   "cell_type": "markdown",
   "id": "8cd7be21",
   "metadata": {},
   "source": [
    "# SPLITTING THE DATASET INTO TRAINING AND TEST SETS"
   ]
  },
  {
   "cell_type": "code",
   "execution_count": 5,
   "id": "e00cf302",
   "metadata": {},
   "outputs": [],
   "source": [
    "from sklearn.model_selection import train_test_split\n",
    "x_train, x_test, y_train, y_test = train_test_split(x, y, test_size=0.25, random_state=0)"
   ]
  },
  {
   "cell_type": "markdown",
   "id": "479ab466",
   "metadata": {},
   "source": [
    "# TRAINING THE KNN MODEL ON THE DATASET!"
   ]
  },
  {
   "cell_type": "code",
   "execution_count": 7,
   "id": "4fe891c6",
   "metadata": {},
   "outputs": [
    {
     "data": {
      "text/plain": [
       "KNeighborsClassifier()"
      ]
     },
     "execution_count": 7,
     "metadata": {},
     "output_type": "execute_result"
    }
   ],
   "source": [
    "from sklearn.neighbors import KNeighborsClassifier\n",
    "knn = KNeighborsClassifier(n_neighbors=5, algorithm='auto', metric='minkowski', p=2)\n",
    "knn.fit(x_train, y_train)"
   ]
  },
  {
   "cell_type": "markdown",
   "id": "0a613b38",
   "metadata": {},
   "source": [
    "# PREDICTING THE RESULT FROM A SINGLE DATA-VALUE"
   ]
  },
  {
   "cell_type": "code",
   "execution_count": 8,
   "id": "4f9c99f4",
   "metadata": {},
   "outputs": [
    {
     "name": "stdout",
     "output_type": "stream",
     "text": [
      "[0]\n"
     ]
    }
   ],
   "source": [
    "print(knn.predict(sc.transform([[45, 76800]])))"
   ]
  },
  {
   "cell_type": "code",
   "execution_count": 10,
   "id": "dcc7732f",
   "metadata": {},
   "outputs": [],
   "source": [
    "# predicting the accuracy score\n",
    "from sklearn.metrics import accuracy_score\n",
    "y_pred = knn.predict(x_test)"
   ]
  },
  {
   "cell_type": "code",
   "execution_count": 11,
   "id": "0bbd8545",
   "metadata": {},
   "outputs": [
    {
     "data": {
      "text/plain": [
       "0.93"
      ]
     },
     "execution_count": 11,
     "metadata": {},
     "output_type": "execute_result"
    }
   ],
   "source": [
    "accuracy_score(y_test, y_pred)"
   ]
  },
  {
   "cell_type": "code",
   "execution_count": null,
   "id": "a9b27b52",
   "metadata": {},
   "outputs": [],
   "source": []
  }
 ],
 "metadata": {
  "kernelspec": {
   "display_name": "Python 3",
   "language": "python",
   "name": "python3"
  },
  "language_info": {
   "codemirror_mode": {
    "name": "ipython",
    "version": 3
   },
   "file_extension": ".py",
   "mimetype": "text/x-python",
   "name": "python",
   "nbconvert_exporter": "python",
   "pygments_lexer": "ipython3",
   "version": "3.8.8"
  }
 },
 "nbformat": 4,
 "nbformat_minor": 5
}
